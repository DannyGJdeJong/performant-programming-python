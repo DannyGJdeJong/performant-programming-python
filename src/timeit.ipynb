{
 "cells": [
  {
   "cell_type": "code",
   "execution_count": null,
   "metadata": {},
   "outputs": [],
   "source": [
    "import datetime\n",
    "d = datetime.date(2020, 9, 13)\n",
    "\n",
    "%timeit '%04d-%02d-%02d' % (d.year, d.month, d.day)\n",
    "%timeit d.isoformat()"
   ]
  },
  {
   "cell_type": "code",
   "execution_count": null,
   "metadata": {
    "tags": []
   },
   "outputs": [],
   "source": [
    "import datetime\n",
    "import pandas as pd\n",
    "import sys\n",
    "\n",
    "start = datetime.date(2020, 1, 1)\n",
    "end = datetime.date(2020, 12, 31)\n",
    "\n",
    "%timeit print([(start + datetime.timedelta(n)).isoformat() for n in range((end - start).days + 1)])\n",
    "%timeit print(pd.date_range(start, end).to_list())"
   ]
  },
  {
   "cell_type": "code",
   "execution_count": null,
   "metadata": {
    "tags": []
   },
   "outputs": [],
   "source": [
    "import datetime\n",
    "\n",
    "dates = [\"2020-01-01\", \"2020-12-31\"]\n",
    "\n",
    "start = datetime.date(2020, 1, 1)\n",
    "end = datetime.date(2020, 12, 31)\n",
    "\n",
    "date_range = [(start + datetime.timedelta(n)).isoformat() for n in range((end - start).days + 1)]\n",
    "\n",
    "%timeit set(date_range) - set(dates)\n",
    "%timeit list(set(date_range) - set(dates))\n",
    "%timeit [date for date in date_range if date not in dates]"
   ]
  },
  {
   "cell_type": "code",
   "execution_count": null,
   "metadata": {},
   "outputs": [],
   "source": [
    "a = set('a')\n",
    "b = ['a']\n",
    "\n",
    "# Can't know whether input variable will be set...\n",
    "%timeit a\n",
    "%timeit a if type(a) is set else set(a)\n",
    "%timeit a if isinstance(a, set) else set(a)\n",
    "%timeit set(a)\n",
    "%timeit set(b)"
   ]
  },
  {
   "cell_type": "code",
   "execution_count": null,
   "metadata": {},
   "outputs": [],
   "source": [
    "a = set({'a', 'b', 'c', 'd'})\n",
    "\n",
    "%timeit set(a)\n",
    "%timeit a if isinstance(a, set) else set(a)"
   ]
  },
  {
   "cell_type": "code",
   "execution_count": null,
   "metadata": {},
   "outputs": [],
   "source": [
    "import numpy as np\n",
    "import statistics\n",
    "test_data = set({(0, 0, 0.3213124), (1.32132154132, 1.432432, 1), (1.32132154132, 1.432432, 1), (2, 2, 2)})\n",
    "\n",
    "print(tuple(map(statistics.median, zip(*test_data))))\n",
    "print(tuple(map(np.median, zip(*test_data))))\n",
    "\n",
    "%timeit tuple(map(statistics.median, zip(*test_data)))\n",
    "%timeit tuple(map(np.median, zip(*test_data)))\n"
   ]
  },
  {
   "cell_type": "code",
   "execution_count": null,
   "metadata": {},
   "outputs": [],
   "source": [
    "test_data = {\n",
    "    \"2020-01-01\": (1, 2, 3),\n",
    "    \"2020-12-31\": (2, 3, 5)\n",
    "}\n",
    "\n",
    "keys = test_data.keys()\n",
    "\n",
    "%timeit sorted(list(keys))\n",
    "%timeit list(keys).sort()"
   ]
  },
  {
   "cell_type": "code",
   "execution_count": null,
   "metadata": {
    "tags": []
   },
   "outputs": [],
   "source": [
    "test = [1, 2, None, 3, 4, None]\n",
    "\n",
    "%timeit list(filter(lambda x: x is not None, test))\n",
    "%timeit [x for x in test if x is not None]"
   ]
  },
  {
   "cell_type": "code",
   "execution_count": null,
   "metadata": {},
   "outputs": [],
   "source": [
    "dates = ['2020-01-01', '2020-01-02', '2020-01-03', '2020-01-04', '2020-01-05', '2020-01-06', '2020-01-07', '2020-01-08', '2020-01-09', '2020-01-10', '2020-01-11', '2020-01-12', '2020-01-13', '2020-01-14', '2020-01-15', '2020-01-16', '2020-01-17', '2020-01-18', '2020-01-19', '2020-01-20', '2020-01-21', '2020-01-22', '2020-01-23', '2020-01-24', '2020-01-25', '2020-01-26', '2020-01-27', '2020-01-28', '2020-01-29', '2020-01-30', '2020-01-31', '2020-02-01', '2020-02-02', '2020-02-03', '2020-02-04', '2020-02-05', '2020-02-06', '2020-02-07', '2020-02-08', '2020-02-09', '2020-02-10', '2020-02-11', '2020-02-12', '2020-02-13', '2020-02-14', '2020-02-15', '2020-02-16', '2020-02-17', '2020-02-18', '2020-02-19', '2020-02-20', '2020-02-21', '2020-02-22', '2020-02-23', '2020-02-24', '2020-02-25', '2020-02-26', '2020-02-27', '2020-02-28', '2020-02-29', '2020-03-01', '2020-03-02', '2020-03-03', '2021-11-21', '2021-11-22', '2021-11-23', '2021-11-24', '2021-11-25', '2021-11-26', '2021-11-27', '2021-11-28', '2021-11-29', '2021-11-30', '2021-12-01', '2021-12-02', '2021-12-03', '2021-12-04', '2021-12-05', '2021-12-06', '2021-12-07', '2021-12-08', '2021-12-09', '2021-12-10', '2021-12-11', '2021-12-12', '2021-12-13', '2021-12-14', '2021-12-15', '2021-12-16', '2021-12-17', '2021-12-18', '2021-12-19', '2021-12-20', '2021-12-21', '2021-12-22', '2021-12-23', '2021-12-24', '2021-12-25', '2021-12-26', '2021-12-27', '2021-12-28', '2021-12-29', '2021-12-30', '2021-12-31']\n",
    "\n",
    "dates.reverse()\n",
    "\n",
    "print(dates)"
   ]
  },
  {
   "cell_type": "code",
   "execution_count": null,
   "metadata": {},
   "outputs": [],
   "source": [
    "from array import array\n",
    "import sys\n",
    "import datetime\n",
    "import statistics\n",
    "\n",
    "data = None\n",
    "\n",
    "for line in open(\"singleclient\", \"r\"):\n",
    "  data = eval(line)\n",
    "\n",
    "import pandas as pd\n",
    "\n",
    "def upsample(data):\n",
    "    dates = data.keys()\n",
    "    start = datetime.date.fromisoformat(min(dates))\n",
    "    end   = datetime.date.fromisoformat(max(dates))\n",
    "    date_range = [(start + datetime.timedelta(n)).isoformat() for n in range((end - start).days + 1)]\n",
    "    date_range.sort()\n",
    "    median = tuple(map(statistics.median, zip(*data.values())))\n",
    "    sorted_data = []\n",
    "    for date in date_range:\n",
    "        sorted_data.append(list(data.setdefault(date, median)))\n",
    "    return sorted_data\n",
    "\n",
    "def upsamplepd(data):\n",
    "    df = data\n",
    "    df.index = pd.DatetimeIndex(df.index)\n",
    "    df = df.resample(\"1D\").asfreq ()\n",
    "    df = df.fillna(df.median())\n",
    "    df.reset_index(drop=True, inplace=True)\n",
    "    return df\n",
    "\n",
    "df = pd.DataFrame.from_dict(data, 'index', columns=['Sum', 'Size', 'Mean'])\n",
    "\n",
    "%timeit upsample(data)\n",
    "print(sys.getsizeof(upsample(data)))\n",
    "%timeit upsamplepd(df)\n",
    "print(sys.getsizeof(upsamplepd(df)))\n"
   ]
  },
  {
   "cell_type": "code",
   "execution_count": null,
   "metadata": {},
   "outputs": [],
   "source": [
    "upsample_data = upsample(data)\n",
    "upsamplepd_data = upsamplepd(df)\n",
    "\n",
    "from sklearn.decomposition import PCA\n",
    "def pca_trans(data):\n",
    "    pca = PCA(1)\n",
    "    x_pca = pca.fit_transform(data)\n",
    "    return x_pca\n",
    "\n",
    "%timeit pca_trans(upsample_data)\n",
    "%timeit pca_trans(upsamplepd_data)"
   ]
  },
  {
   "cell_type": "code",
   "execution_count": null,
   "metadata": {},
   "outputs": [],
   "source": [
    "%timeit [x for x in range(10)]\n",
    "%timeit list(range(10))"
   ]
  },
  {
   "cell_type": "code",
   "execution_count": null,
   "metadata": {
    "tags": []
   },
   "outputs": [],
   "source": [
    "import array\n",
    "\n",
    "numbersList = list(range(9999))\n",
    "numbersTuple = tuple(range(9999))\n",
    "numbersSet = set(range(9999))\n",
    "numbersDict = dict([(x, x) for x in range(9999)])\n",
    "numbersArray = array.array('i', list(range(9999)))\n",
    "\n",
    "%timeit 5000 in numbersList\n",
    "%timeit 5000 in numbersTuple\n",
    "%timeit 5000 in numbersSet\n",
    "%timeit 5000 in numbersDict\n",
    "%timeit 5000 in numbersArray\n",
    "%timeit 5000 in range(9999)"
   ]
  },
  {
   "cell_type": "code",
   "execution_count": null,
   "metadata": {},
   "outputs": [],
   "source": [
    "import array\n",
    "\n",
    "numbersList = list(range(9999))\n",
    "numbersTuple = tuple(range(9999))\n",
    "numbersSet = set(range(9999))\n",
    "numbersDict = dict([(x, x) for x in range(9999)])\n",
    "numbersArray = array.array('i', list(range(9999)))\n",
    "\n",
    "%timeit numbersList\n",
    "%timeit 5000 in numbersTuple\n",
    "%timeit 5000 in numbersSet\n",
    "%timeit 5000 in numbersDict\n",
    "%timeit 5000 in numbersArray\n",
    "%timeit 5000 in range(9999)"
   ]
  },
  {
   "cell_type": "code",
   "execution_count": null,
   "metadata": {
    "tags": []
   },
   "outputs": [],
   "source": [
    "import array\n",
    "\n",
    "numbersList = list(range(9999))\n",
    "numbersSet = set(range(9999))\n",
    "numbersTuple = tuple(range(9999))\n",
    "numbersArray = array.array('i', list(range(0)))\n",
    "\n",
    "%timeit numbersList.append(5000)\n",
    "%timeit numbersSet.add(5000)\n",
    "%timeit 5000 in numbersTuple # Kan niet\n",
    "%timeit numbersArray.append(5000)"
   ]
  },
  {
   "cell_type": "code",
   "execution_count": null,
   "metadata": {
    "tags": []
   },
   "outputs": [],
   "source": [
    "numbersSet = set(range(9999))\n",
    "print(type(sorted(numbersSet)))"
   ]
  },
  {
   "cell_type": "code",
   "execution_count": null,
   "metadata": {
    "tags": []
   },
   "outputs": [],
   "source": [
    "def plusone(numbers):\n",
    "    ret = []\n",
    "    for n in numbers:\n",
    "        ret.append(n + 1)\n",
    "    return ret\n",
    "\n",
    "numbers = list(range(9999))\n",
    "\n",
    "%timeit plusone(numbers)\n",
    "%timeit [n + 1 for n in numbers]\n",
    "%timeit map(lambda x: x + 1, numbers)\n",
    "%timeit (number + 1 for number in numbers)\n",
    "\n",
    "print(sys.getsizeof(map(lambda x: x + 1, numbers)))"
   ]
  },
  {
   "cell_type": "code",
   "execution_count": null,
   "metadata": {
    "tags": []
   },
   "outputs": [],
   "source": [
    "numbers = list(range(9999))\n",
    "\n",
    "%timeit [n + 1 for n in numbers]\n",
    "print(sys.getsizeof([n + 1 for n in numbers]))\n",
    "%timeit (number + 1 for number in numbers)\n",
    "print(type((number + 1 for number in numbers)))\n",
    "%timeit map(lambda x: x + 1, numbers)\n",
    "print(type(map(lambda x: x + 1, numbers)))"
   ]
  },
  {
   "cell_type": "code",
   "execution_count": null,
   "metadata": {},
   "outputs": [],
   "source": []
  }
 ],
 "metadata": {
  "language_info": {
   "codemirror_mode": {
    "name": "ipython",
    "version": 3
   },
   "file_extension": ".py",
   "mimetype": "text/x-python",
   "name": "python",
   "nbconvert_exporter": "python",
   "pygments_lexer": "ipython3",
   "version": "3.8.3-final"
  },
  "orig_nbformat": 2,
  "kernelspec": {
   "name": "python38264bitvenvvenvc5366dcd7c8e43b790feec0d79392dca",
   "display_name": "Python 3.8.2 64-bit ('.venv': venv)"
  }
 },
 "nbformat": 4,
 "nbformat_minor": 2
}